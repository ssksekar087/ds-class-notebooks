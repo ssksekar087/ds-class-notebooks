{
  "metadata": {
    "kernelspec": {
      "name": "python",
      "display_name": "Python (Pyodide)",
      "language": "python"
    },
    "language_info": {
      "codemirror_mode": {
        "name": "python",
        "version": 3
      },
      "file_extension": ".py",
      "mimetype": "text/x-python",
      "name": "python",
      "nbconvert_exporter": "python",
      "pygments_lexer": "ipython3",
      "version": "3.8"
    }
  },
  "nbformat_minor": 4,
  "nbformat": 4,
  "cells": [
    {
      "cell_type": "code",
      "source": "import micropip\n\nawait micropip.install('datascience')",
      "metadata": {
        "trusted": true
      },
      "outputs": [],
      "execution_count": 5
    },
    {
      "cell_type": "code",
      "source": "import micropip\n\nawait micropip.install('numpy')",
      "metadata": {
        "trusted": true
      },
      "outputs": [],
      "execution_count": 8
    },
    {
      "cell_type": "code",
      "source": "#Class 3\nimport numpy as np\n#Functions and Tables\nimport datascience\nfrom datascience import make_array\n#Functions - Single argument\ndef biggest_difference(array_x):\n    \"\"\"Find the biggest difference in absolute value between two adjacent elements\"\"\"\n    diffs = np.diff(array_x)\n    absolute_diffs = abs(diffs)\n    return max(absolute_diffs)\n    \nsome_numbers = make_array(2, 4, 5, 6, 4, -1, 1)\nbig_diff = biggest_difference(some_numbers)\nprint(\"The biggest difference is\", big_diff)",
      "metadata": {
        "trusted": true
      },
      "outputs": [
        {
          "name": "stdout",
          "text": "The biggest difference is 5\n",
          "output_type": "stream"
        }
      ],
      "execution_count": 9
    },
    {
      "cell_type": "markdown",
      "source": " Practice Question 1: Stock Price Fluctuations Scenario: A stock analyst is monitoring the\n daily closing prices of a stock for a week. The prices are as follows:\n 150,155,149,160,162,158,165\n Task: Write a function using the given template to calculate the biggest difference (in\n absolute value) between two adjacent closing prices.\n     \n Practice Question 2: Temperature Variations Scenario: A weather station records the\n hourly temperatures (in °C) for a single day. The data is as follows:\n 25,27,29,26,22,21,23,24\n Task: Using a function similar to biggest_difference, determine the largest temperature\n change between two consecutive hours.\n\n Practice Question 3: Sales Growth Analysis Scenario: A business owner tracks the monthly\n revenue (in thousands of dollars) for the past 6 months:\n 120,125,130,128,132,140\n Task: Create a function to find the largest growth (absolute value) in revenue between\n two consecutive months.\n Output: The maximum revenue growth and the corresponding months.",
      "metadata": {}
    },
    {
      "cell_type": "code",
      "source": "#Solution Here\n\n\n\n\n",
      "metadata": {
        "trusted": true
      },
      "outputs": [],
      "execution_count": null
    },
    {
      "cell_type": "code",
      "source": "#Functions - Multiple arguments\ndef percents(counts, decimal_places):\n    \"\"\"Convert the values in array_x to percents out of the total of array_x.\"\"\"\n    total = counts.sum()\n    return np.round((counts/total)*100, decimal_places)\nparts = make_array(2, 1, 4)\nprint(\"Rounded to 1 decimal place: \", percents(parts, 1))\nprint(\"Rounded to 2 decimal places:\", percents(parts, 2))\nprint(\"Rounded to 3 decimal places:\", percents(parts, 3))",
      "metadata": {
        "trusted": true
      },
      "outputs": [],
      "execution_count": null
    },
    {
      "cell_type": "code",
      "source": " #default values\ndef percents(counts, decimal_places=2):\n    \"\"\"Convert the values in array_x to percents out of the total of array_x.\"\"\"\n    total = counts.sum()\n    return np.round((counts/total)*100, decimal_places)\nparts = make_array(2, 1, 4)\nprint(\"Rounded to 1 decimal place:\", percents(parts, 1))\nprint(\"Rounded to the default number of decimal places:\", percents(parts))",
      "metadata": {
        "trusted": true
      },
      "outputs": [],
      "execution_count": null
    },
    {
      "cell_type": "code",
      "source": "from datascience import Table\n# Step 1: Create a table with some data\ndata = Table().with_columns(\n    \"ID\", [1, 2, 3, 4, 5],\n    \"Value\", [10, 20, 30, 40, 50]\n)\n# Step 2: Define a function to square a number\ndef square(x):\n    return x ** 2\n# Step 3: Apply the function to the 'Value' column\ndata = data.with_column('Squared Value', data.apply(square, 'Value'))\n# Step 4: Display the updated table\ndata.show()",
      "metadata": {
        "trusted": true
      },
      "outputs": [
        {
          "output_type": "display_data",
          "data": {
            "text/plain": "<IPython.core.display.HTML object>",
            "text/html": "<table border=\"1\" class=\"dataframe\">\n    <thead>\n        <tr>\n            <th>ID</th> <th>Value</th> <th>Squared Value</th>\n        </tr>\n    </thead>\n    <tbody>\n        <tr>\n            <td>1   </td> <td>10   </td> <td>100          </td>\n        </tr>\n        <tr>\n            <td>2   </td> <td>20   </td> <td>400          </td>\n        </tr>\n        <tr>\n            <td>3   </td> <td>30   </td> <td>900          </td>\n        </tr>\n        <tr>\n            <td>4   </td> <td>40   </td> <td>1600         </td>\n        </tr>\n        <tr>\n            <td>5   </td> <td>50   </td> <td>2500         </td>\n        </tr>\n    </tbody>\n</table>"
          },
          "metadata": {}
        }
      ],
      "execution_count": 12
    },
    {
      "cell_type": "code",
      "source": "# Create a table with two columns\ndata = Table().with_columns(\n\"Height\", [150, 160, 170, 180, 190],\n\"Weight\", [50, 60, 70, 80, 90]\n)\n# Define a function that calculates BMI\ndef calculate_bmi(height, weight):\n    return weight / (height / 100) ** 2\n# Apply the function to both columns\ndata = data.with_column('BMI', data.apply(calculate_bmi, 'Height', 'Weight'))\n# Display the table with the new BMI column\ndata.show()",
      "metadata": {
        "trusted": true
      },
      "outputs": [],
      "execution_count": null
    },
    {
      "cell_type": "markdown",
      "source": " Practice Question 1: Converting Temperatures Scenario: You are given a table containing\n temperatures in Fahrenheit.\n ID Temperature (°F) 1 32 2 50 3 77 4 104 5 212 Task:\n Write a function to convert temperatures from Fahrenheit to Celsius using the formula:\n Celsius=(Fahrenheit−32)× 5/9\n Apply the function to the Temperature column and add a new column Temperature (°C)\n to the table. Display the updated table.\n \n Practice Question 2: Calculating Discounted Prices Scenario: A store has a table of\n products and their original prices.\n ID Price ($) 1 100 2 250 3 400 4 150 5 300 Task:\n Define a function to calculate the discounted price of a product, where the discount rate\n is 20%. Discounted Price=Price×(1−0.2) Apply the function to the Price column and\n create a new column called Discounted Price. Display the updated table.\n \n Practice Question 3: Categorizing Exam Scores Scenario: A teacher has a table of students\n and their scores.\n Student ID Score 1 85 2 67 3 90 4 72 5 60 Task:\n Write a function to categorize scores as \"Pass\" (if score >= 70) or \"Fail\" (if score < 70).\n Apply the function to the Score column and add a new column called Result. Display the updated table.",
      "metadata": {}
    },
    {
      "cell_type": "code",
      "source": "#Solution Here\n\n\n",
      "metadata": {
        "trusted": true
      },
      "outputs": [],
      "execution_count": null
    },
    {
      "cell_type": "code",
      "source": "#Classifying by One Variable\ncones = Table().with_columns(\n    'Flavor', make_array('strawberry', 'chocolate',\n                         'chocolate', \n                         'strawberry', 'chocolate'),\n    'Price', make_array(3.55, 4.75, 6.55, 5.25, 5.25)\n)\ncones\ncones.group('Flavor')",
      "metadata": {
        "trusted": true
      },
      "outputs": [
        {
          "execution_count": 13,
          "output_type": "execute_result",
          "data": {
            "text/plain": "Flavor     | count\nchocolate  | 3\nstrawberry | 2",
            "text/html": "<table border=\"1\" class=\"dataframe\">\n    <thead>\n        <tr>\n            <th>Flavor</th> <th>count</th>\n        </tr>\n    </thead>\n    <tbody>\n        <tr>\n            <td>chocolate </td> <td>3    </td>\n        </tr>\n        <tr>\n            <td>strawberry</td> <td>2    </td>\n        </tr>\n    </tbody>\n</table>"
          },
          "metadata": {}
        }
      ],
      "execution_count": 13
    },
    {
      "cell_type": "code",
      "source": "cones = Table().with_columns(\n    'Flavor', make_array('strawberry', 'chocolate',\n                         'chocolate', \n                         'strawberry', 'chocolate'),\n    'Price', make_array(3.55, 4.75, 6.55, 5.25, 5.25)\n)\ncones\ncones.group('Flavor', sum)",
      "metadata": {
        "trusted": true
      },
      "outputs": [
        {
          "execution_count": 14,
          "output_type": "execute_result",
          "data": {
            "text/plain": "Flavor     | Price sum\nchocolate  | 16.55\nstrawberry | 8.8",
            "text/html": "<table border=\"1\" class=\"dataframe\">\n    <thead>\n        <tr>\n            <th>Flavor</th> <th>Price sum</th>\n        </tr>\n    </thead>\n    <tbody>\n        <tr>\n            <td>chocolate </td> <td>16.55    </td>\n        </tr>\n        <tr>\n            <td>strawberry</td> <td>8.8      </td>\n        </tr>\n    </tbody>\n</table>"
          },
          "metadata": {}
        }
      ],
      "execution_count": 14
    },
    {
      "cell_type": "code",
      "source": "#Two Variables: Counting the Number in Each Paired Category\nmore_cones = Table().with_columns(\n    'Flavor', make_array('strawberry', 'chocolate', \n                         'chocolate', 'strawberry', \n                         'chocolate', 'bubblegum'),\n    'Color', make_array('pink', 'light brown', \n                        'dark brown', 'pink', \n                        'dark brown', 'pink'),\n    'Price', make_array(3.55, 4.75, 5.25, 5.25,\n                        5.25, 4.75)\n)\nmore_cones\nmore_cones.group(['Flavor', 'Color'])",
      "metadata": {
        "trusted": true
      },
      "outputs": [
        {
          "execution_count": 15,
          "output_type": "execute_result",
          "data": {
            "text/plain": "Flavor     | Color       | count\nbubblegum  | pink        | 1\nchocolate  | dark brown  | 2\nchocolate  | light brown | 1\nstrawberry | pink        | 2",
            "text/html": "<table border=\"1\" class=\"dataframe\">\n    <thead>\n        <tr>\n            <th>Flavor</th> <th>Color</th> <th>count</th>\n        </tr>\n    </thead>\n    <tbody>\n        <tr>\n            <td>bubblegum </td> <td>pink       </td> <td>1    </td>\n        </tr>\n        <tr>\n            <td>chocolate </td> <td>dark brown </td> <td>2    </td>\n        </tr>\n        <tr>\n            <td>chocolate </td> <td>light brown</td> <td>1    </td>\n        </tr>\n        <tr>\n            <td>strawberry</td> <td>pink       </td> <td>2    </td>\n        </tr>\n    </tbody>\n</table>"
          },
          "metadata": {}
        }
      ],
      "execution_count": 15
    },
    {
      "cell_type": "code",
      "source": "#Two Variables: Counting the Number in Each Paired Category\nmore_cones = Table().with_columns(\n    'Flavor', make_array('strawberry', 'chocolate', \n                         'chocolate', 'strawberry', \n                         'chocolate', 'bubblegum'),\n    'Color', make_array('pink', 'light brown', \n                        'dark brown', 'pink', \n                        'dark brown', 'pink'),\n    'Price', make_array(3.55, 4.75, 5.25, 5.25,\n                        5.25, 4.75)\n)\nmore_cones\nmore_cones.group(['Flavor', 'Color'], sum)",
      "metadata": {
        "trusted": true
      },
      "outputs": [
        {
          "execution_count": 16,
          "output_type": "execute_result",
          "data": {
            "text/plain": "Flavor     | Color       | Price sum\nbubblegum  | pink        | 4.75\nchocolate  | dark brown  | 10.5\nchocolate  | light brown | 4.75\nstrawberry | pink        | 8.8",
            "text/html": "<table border=\"1\" class=\"dataframe\">\n    <thead>\n        <tr>\n            <th>Flavor</th> <th>Color</th> <th>Price sum</th>\n        </tr>\n    </thead>\n    <tbody>\n        <tr>\n            <td>bubblegum </td> <td>pink       </td> <td>4.75     </td>\n        </tr>\n        <tr>\n            <td>chocolate </td> <td>dark brown </td> <td>10.5     </td>\n        </tr>\n        <tr>\n            <td>chocolate </td> <td>light brown</td> <td>4.75     </td>\n        </tr>\n        <tr>\n            <td>strawberry</td> <td>pink       </td> <td>8.8      </td>\n        </tr>\n    </tbody>\n</table>"
          },
          "metadata": {}
        }
      ],
      "execution_count": 16
    },
    {
      "cell_type": "code",
      "source": "more_cones = Table().with_columns(\n    'Flavor', make_array('strawberry', 'chocolate', \n                         'chocolate', 'strawberry', \n                         'chocolate', 'bubblegum'),\n    'Color', make_array('pink', 'light brown', \n                        'dark brown', 'pink', \n                        'dark brown', 'pink'),\n    'Price', make_array(3.55, 4.75, 5.25, 5.25,\n                        5.25, 4.75)\n)\nmore_cones\nmore_cones.pivot('Flavor', 'Color')",
      "metadata": {
        "trusted": true
      },
      "outputs": [
        {
          "execution_count": 17,
          "output_type": "execute_result",
          "data": {
            "text/plain": "Color       | bubblegum | chocolate | strawberry\ndark brown  | 0         | 2         | 0\nlight brown | 0         | 1         | 0\npink        | 1         | 0         | 2",
            "text/html": "<table border=\"1\" class=\"dataframe\">\n    <thead>\n        <tr>\n            <th>Color</th> <th>bubblegum</th> <th>chocolate</th> <th>strawberry</th>\n        </tr>\n    </thead>\n    <tbody>\n        <tr>\n            <td>dark brown </td> <td>0        </td> <td>2        </td> <td>0         </td>\n        </tr>\n        <tr>\n            <td>light brown</td> <td>0        </td> <td>1        </td> <td>0         </td>\n        </tr>\n        <tr>\n            <td>pink       </td> <td>1        </td> <td>0        </td> <td>2         </td>\n        </tr>\n    </tbody>\n</table>"
          },
          "metadata": {}
        }
      ],
      "execution_count": 17
    },
    {
      "cell_type": "markdown",
      "source": "Case Study 1: Retail Store Sales Analysis Scenario: A retail store sells products across\n various categories (e.g., Electronics, Clothing, Home Goods). The store tracks the sales\ndata of each product, including the product category, the sale amount, and the region\n where it was sold.\n The store owner wants to analyze:\n Total sales per product category. Total sales for each category by region. A pivot table to\n see the sales distribution by category and region. Data: Here is the sales data for the\n retail store:\n Category Region Sale Amount Electronics North 150 Clothing South 200 Home Goods\n East 100 Electronics West 300 Clothing North 150 Home Goods South 250\n \n Case Study 2: Restaurant Sales Analysis by Dish and Time of Day Scenario: A restaurant\n wants to analyze the sales performance of its dishes during different times of the day.\n The data includes the dish type, the time of day (e.g., Breakfast, Lunch, Dinner), and the\n price of each dish.\n The restaurant owner wants to:\n Calculate the total sales per dish type. Calculate the total sales for each dish type by time\n of day. Create a pivot table to see the sales distribution by dish and time of day. Data:\n Here is the restaurant sales data:\n Dish Time of Day Price ($) Pancakes Breakfast 5.00 Sandwich Lunch 7.50 Pasta Dinner\n 12.00 Pancakes Breakfast 5.00 Sandwich Dinner 8.00 Pasta Dinner 12.00\n \n Case Study 3: Employee Hours Worked by Department Scenario: A company tracks the\n number of hours worked each week by employees across different departments. The\n data includes the department, the employee’s name, and the number of hours worked.\n The company HR manager wants to:\n Calculate the total hours worked for each department. Calculate the total hours worked\n by each department for each employee. Create a pivot table to see the breakdown of\n total hours worked by department and employee. Data: Here is the employee hours\n worked data:\n Department Employee Hours Worked HR Alice 40 IT Bob 45 IT Carol 50 Marketing Dave\n 35 HR Eve 30 Marketing Frank 40",
      "metadata": {}
    },
    {
      "cell_type": "code",
      "source": "import datascience\nfrom datascience import make_array\n#Joining Tables by Columns\ncones = Table().with_columns(\n 'Flavor', make_array('strawberry', 'vanilla', \n'chocolate', 'strawberry', \n'chocolate'),\n 'Price', make_array(3.55, 4.75, 6.55, 5.25, 5.75)\n)\ncones\nratings = Table().with_columns(\n'Kind', make_array('strawberry', 'chocolate', \n'vanilla'), 'Stars', make_array(2.5, 3.5, 4)\n)\nratings\nrated = cones.join('Flavor', ratings, 'Kind')\nrated",
      "metadata": {
        "trusted": true
      },
      "outputs": [
        {
          "execution_count": 18,
          "output_type": "execute_result",
          "data": {
            "text/plain": "Flavor     | Price | Stars\nchocolate  | 6.55  | 3.5\nchocolate  | 5.75  | 3.5\nstrawberry | 3.55  | 2.5\nstrawberry | 5.25  | 2.5\nvanilla    | 4.75  | 4",
            "text/html": "<table border=\"1\" class=\"dataframe\">\n    <thead>\n        <tr>\n            <th>Flavor</th> <th>Price</th> <th>Stars</th>\n        </tr>\n    </thead>\n    <tbody>\n        <tr>\n            <td>chocolate </td> <td>6.55 </td> <td>3.5  </td>\n        </tr>\n        <tr>\n            <td>chocolate </td> <td>5.75 </td> <td>3.5  </td>\n        </tr>\n        <tr>\n            <td>strawberry</td> <td>3.55 </td> <td>2.5  </td>\n        </tr>\n        <tr>\n            <td>strawberry</td> <td>5.25 </td> <td>2.5  </td>\n        </tr>\n        <tr>\n            <td>vanilla   </td> <td>4.75 </td> <td>4    </td>\n        </tr>\n    </tbody>\n</table>"
          },
          "metadata": {}
        }
      ],
      "execution_count": 18
    },
    {
      "cell_type": "markdown",
      "source": "Question 1: School Subject Grades and Teacher Ratings Scenario: A school tracks the\n grades of students across various subjects and the teacher ratings for each subject. You\n have two tables:\n The first table contains the student grades in each subject. The second table contains the\n teacher ratings for each subject. Your task is to join the two tables by subject to analyze\n the grades and ratings together.\n Data: Student Grades Table:\n Subject Grade Math 85 Science 90 History 88 Math 78 Science 95 Teacher Ratings Table:\n Subject Teacher Rating Math 4.2 Science 3.8 History 4.5 Task: Create the tables for\n student grades and teacher ratings. Join the tables on the Subject column. Display the\n resulting table with both the grades and teacher ratings for each subject.\n                                                         \n Question 2: Employee Salaries and Departments Scenario: You have two tables that store\n information about employees in a company. One table contains the employees' salaries,\n and the other contains the departments they belong to. You want to join these tables to\n create a combined table of employees with their respective salaries and departments.\n Data: Employee Salaries Table:\n Employee Salary Alice 60000 Bob 75000 Carol 80000 David 55000 Emma 95000\n Departments Table:\n Employee Department Alice HR Bob IT Carol IT David HR Emma Finance Task: Create the\n tables for employee salaries and departments. Join the two tables on the Employee\n column. Display the resulting table with employees, their salaries, and departments.\n       \n Question 3: Product Inventory and Sales Data Scenario: A store tracks its inventory and\n sales data in separate tables. One table contains product inventory (product names and\n quantities available), and the other table contains sales data (products sold and sales\n amounts). You need to join these tables to get a combined view of products with both\n their inventory and sales data.\n\n Data: Product Inventory Table:\n Product Quantity Widget 100 Gadget 150 Sprocket 50 Widget 80 Gadget 120 Sales Data\n Table:\n Product Sales Amount Widget 5000 Gadget 6000 Sprocket 2000 Task: Create the tables\n for product inventory and sales data. Join the tables on the Product column. Display the\n resulting table with products, their quantities, and sales amounts.",
      "metadata": {}
    },
    {
      "cell_type": "markdown",
      "source": "#INTRODUCTION TO NUMPY",
      "metadata": {}
    },
    {
      "cell_type": "code",
      "source": "#CREATION OF ARRAY\nimport numpy as np\narr = np.array([1,2,3])\nprint(arr)",
      "metadata": {
        "trusted": true
      },
      "outputs": [
        {
          "name": "stdout",
          "text": "[1 2 3]\n",
          "output_type": "stream"
        }
      ],
      "execution_count": 20
    },
    {
      "cell_type": "code",
      "source": "b = np.array([(1.5,2,3), (4,5,6)],\n             dtype = float)\nprint(b)",
      "metadata": {
        "trusted": true
      },
      "outputs": [
        {
          "name": "stdout",
          "text": "[[ 1.5  2.   3. ]\n [ 4.   5.   6. ]]\n",
          "output_type": "stream"
        }
      ],
      "execution_count": 21
    },
    {
      "cell_type": "code",
      "source": "c = np.array([[(1.5,2,3), (4,5,6)],\n              [(3,2,1), (4,5,6)]], \n             dtype = float)\nprint(c)",
      "metadata": {
        "trusted": true
      },
      "outputs": [
        {
          "name": "stdout",
          "text": "[[[ 1.5  2.   3. ]\n  [ 4.   5.   6. ]]\n\n [[ 3.   2.   1. ]\n  [ 4.   5.   6. ]]]\n",
          "output_type": "stream"
        }
      ],
      "execution_count": 22
    },
    {
      "cell_type": "code",
      "source": "# Create a 1D array from lists\nlist_data = [1, 2, 3, 4, 5]\narray_1d = np.array(list_data)\nprint(\"1D Array:\", array_1d)",
      "metadata": {
        "trusted": true
      },
      "outputs": [
        {
          "name": "stdout",
          "text": "1D Array: [1 2 3 4 5]\n",
          "output_type": "stream"
        }
      ],
      "execution_count": 23
    },
    {
      "cell_type": "code",
      "source": "# Create a 1D array from a tuple\ntuple_data = (10, 20, 30, 40)\narray_from_tuple = np.array(tuple_data)\nprint(\"Array from Tuple:\", array_from_tuple)",
      "metadata": {
        "trusted": true
      },
      "outputs": [
        {
          "name": "stdout",
          "text": "Array from Tuple: [10 20 30 40]\n",
          "output_type": "stream"
        }
      ],
      "execution_count": 24
    },
    {
      "cell_type": "code",
      "source": "# Mixed input\nmixed_data = [(1, 2), [3, 4]]\nmixed_array = np.array(mixed_data)\nprint(\"Mixed Array:\\n\", mixed_array)",
      "metadata": {
        "trusted": true
      },
      "outputs": [
        {
          "name": "stdout",
          "text": "Mixed Array:\n [[1 2]\n [3 4]]\n",
          "output_type": "stream"
        }
      ],
      "execution_count": 25
    },
    {
      "cell_type": "code",
      "source": "list_data = [1, 2, 3, 4, 5]\narray_1d = np.array(list_data)\nl1 = list_data+2\nprint(l1)",
      "metadata": {
        "trusted": true
      },
      "outputs": [
        {
          "ename": "<class 'TypeError'>",
          "evalue": "can only concatenate list (not \"int\") to list",
          "traceback": [
            "\u001b[0;31m---------------------------------------------------------------------------\u001b[0m",
            "\u001b[0;31mTypeError\u001b[0m                                 Traceback (most recent call last)",
            "Cell \u001b[0;32mIn[26], line 3\u001b[0m\n\u001b[1;32m      1\u001b[0m list_data \u001b[38;5;241m=\u001b[39m [\u001b[38;5;241m1\u001b[39m, \u001b[38;5;241m2\u001b[39m, \u001b[38;5;241m3\u001b[39m, \u001b[38;5;241m4\u001b[39m, \u001b[38;5;241m5\u001b[39m]\n\u001b[1;32m      2\u001b[0m array_1d \u001b[38;5;241m=\u001b[39m np\u001b[38;5;241m.\u001b[39marray(list_data)\n\u001b[0;32m----> 3\u001b[0m l1 \u001b[38;5;241m=\u001b[39m \u001b[43mlist_data\u001b[49m\u001b[38;5;241;43m+\u001b[39;49m\u001b[38;5;241;43m2\u001b[39;49m\n\u001b[1;32m      4\u001b[0m \u001b[38;5;28mprint\u001b[39m(l1)\n",
            "\u001b[0;31mTypeError\u001b[0m: can only concatenate list (not \"int\") to list"
          ],
          "output_type": "error"
        }
      ],
      "execution_count": 26
    },
    {
      "cell_type": "code",
      "source": "list_data = [1, 2, 3, 4, 5]\narray_1d = np.array(list_data)\nl1 = array_1d+2\nprint(l1)",
      "metadata": {
        "trusted": true
      },
      "outputs": [
        {
          "name": "stdout",
          "text": "[3 4 5 6 7]\n",
          "output_type": "stream"
        }
      ],
      "execution_count": 27
    },
    {
      "cell_type": "markdown",
      "source": " Case Study 1: Creating a 1D NumPy Array from a List of Temperatures Scenario: You are\n analyzing the temperature data for a city over the span of a week. You need to create a\n 1D NumPy array that contains the temperatures (in Celsius) for each day of the week.\n Data: Temperatures (in Celsius) for the week: [22, 24, 19, 25, 23, 21, 20]\n Tasks: Create a 1D NumPy array from the provided temperature data.\n\n Case Study 2: Creating a 2D NumPy Array for Student Marks Scenario: You are analyzing\n the marks of 5 students in 4 different subjects. You need to create a 2D NumPy array that\n represents the marks of the students across the subjects, and you want to calculate the\n total marks for each student.\n Data: Marks of 5 students in 4 subjects: [ [85, 90, 88, 92], # Student 1 [78, 85, 80, 79], #\n Student 2 [90, 92, 85, 87], # Student 3 [88, 84, 91, 89], # Student 4 [76, 79, 80, 82] #\n Student 5 ]\n Tasks: Create a 2D NumPy array using the marks data.\n\n Case Study 3: Creating a Multi-dimensional NumPy Array for a Grid of Values Scenario:\n You need to create a multi-dimensional NumPy array representing a 3x3 grid of values,\n where each element is the sum of its row and column indices. This grid will represent a\n simple matrix.\n Tasks: Create a 3x3 multi-dimensional NumPy array.",
      "metadata": {}
    },
    {
      "cell_type": "code",
      "source": "#Creating Arrays using np functions\n# Array of zeros \nzeros = np.zeros((2, 3)) # 2x3 matrix of zeros \nprint(zeros)",
      "metadata": {
        "trusted": true
      },
      "outputs": [
        {
          "name": "stdout",
          "text": "[[ 0.  0.  0.]\n [ 0.  0.  0.]]\n",
          "output_type": "stream"
        }
      ],
      "execution_count": 28
    },
    {
      "cell_type": "code",
      "source": "# Array of ones \nones = np.ones((3, 3)) # 3x3 matrix of ones \nprint(ones)",
      "metadata": {
        "trusted": true
      },
      "outputs": [
        {
          "name": "stdout",
          "text": "[[ 1.  1.  1.]\n [ 1.  1.  1.]\n [ 1.  1.  1.]]\n",
          "output_type": "stream"
        }
      ],
      "execution_count": 29
    },
    {
      "cell_type": "code",
      "source": "# Array of a specific value \nfilled = np.full((2, 2), 7) # 2x2 matrix filled with 7 \nprint(filled)",
      "metadata": {
        "trusted": true
      },
      "outputs": [
        {
          "name": "stdout",
          "text": "[[7 7]\n [7 7]]\n",
          "output_type": "stream"
        }
      ],
      "execution_count": 30
    },
    {
      "cell_type": "code",
      "source": "# Identity matrix \nidentity = np.eye(3) # 3x3 identity matrix\nprint(identity)",
      "metadata": {
        "trusted": true
      },
      "outputs": [
        {
          "name": "stdout",
          "text": "[[ 1.  0.  0.]\n [ 0.  1.  0.]\n [ 0.  0.  1.]]\n",
          "output_type": "stream"
        }
      ],
      "execution_count": 31
    },
    {
      "cell_type": "code",
      "source": "#Creating array using ranges\n# Array from a range of values\narr = np.arange(0, 10, 2)  \nprint(arr)",
      "metadata": {
        "trusted": true
      },
      "outputs": [
        {
          "name": "stdout",
          "text": "[0 2 4 6 8]\n",
          "output_type": "stream"
        }
      ],
      "execution_count": 32
    },
    {
      "cell_type": "code",
      "source": "# Array with evenly spaced values\narr = np.linspace(0, 1, 5) \nprint(arr)",
      "metadata": {
        "trusted": true
      },
      "outputs": [
        {
          "name": "stdout",
          "text": "[ 0.    0.25  0.5   0.75  1.  ]\n",
          "output_type": "stream"
        }
      ],
      "execution_count": 33
    },
    {
      "cell_type": "code",
      "source": "#Creating array using random\n# Random values between 0 and 1\nrandom_arr = np.random.rand(3, 3)\nprint(random_arr)",
      "metadata": {
        "trusted": true
      },
      "outputs": [
        {
          "name": "stdout",
          "text": "[[ 0.86600939  0.64180239  0.63796095]\n [ 0.74886649  0.61019679  0.03081193]\n [ 0.29912492  0.85718637  0.90740055]]\n",
          "output_type": "stream"
        }
      ],
      "execution_count": 34
    },
    {
      "cell_type": "code",
      "source": "# Random integers in a range\nrandom_ints = np.random.randint(1, 10, \n                                (2, 2))\nprint(random_ints)",
      "metadata": {
        "trusted": true
      },
      "outputs": [
        {
          "name": "stdout",
          "text": "[[8 3]\n [8 1]]\n",
          "output_type": "stream"
        }
      ],
      "execution_count": 35
    },
    {
      "cell_type": "markdown",
      "source": " Case Study 1: Simulating a Dice Game Scenario: You are designing a simple dice game. In\n this game, two players each roll a die, and the player with the higher roll wins. If the rolls\n are equal, it's a tie.\n Task:\n Simulate the dice rolls using random.randint() for two players. Each die roll should be a\n random integer between 1 and 6 (inclusive). Compare the results and determine the\n winner, or if the game is a tie.\n \n Case Study 2: Randomly Generating Points for a Simulation Scenario: You are working on\n a simulation where you need to generate random points within a 2D grid, where each\n point represents a particle in a physics simulation. The grid size is 10x10, and the x and y\n coordinates of each point must be between 0 and 10.\n Task:\n Use np.random.rand() to generate random coordinates for 10 particles. Scale the\n generated values so they fit within the range [0, 10].\n \n Case Study 3: Simulating Probability in a Coin Toss Scenario: You are conducting a study\n to simulate a series of coin tosses. Each toss can result in either a \"Heads\" (1) or \"Tails\"\n (0). You need to simulate the coin toss for 1000 trials and compute the probability of\n getting \"Heads\".\n Task:\n Use np.random.rand() to simulate 1000 coin tosses. If the random value is greater than\n 0.5, consider it \"Heads\" (1); otherwise, it will be \"Tails\" (0). Calculate the probability of\n getting \"Heads\" by dividing the number of \"Heads\" by the total number of tosses.",
      "metadata": {}
    },
    {
      "cell_type": "code",
      "source": "#Solution",
      "metadata": {
        "trusted": true
      },
      "outputs": [],
      "execution_count": null
    },
    {
      "cell_type": "code",
      "source": "",
      "metadata": {
        "trusted": true
      },
      "outputs": [],
      "execution_count": null
    }
  ]
}